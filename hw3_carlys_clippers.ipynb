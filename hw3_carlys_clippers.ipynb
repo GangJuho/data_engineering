{
 "cells": [
  {
   "cell_type": "code",
   "execution_count": 39,
   "id": "9e77a55f-ffab-4ea1-b263-ebd83244beaa",
   "metadata": {},
   "outputs": [],
   "source": [
    "import numpy as np"
   ]
  },
  {
   "cell_type": "code",
   "execution_count": 40,
   "id": "1ebde30c-ceb4-4744-beeb-f3e9c30fbb99",
   "metadata": {},
   "outputs": [],
   "source": [
    "# 기본선언\n",
    "\n",
    "hairstyles = [\"bouffant\", \"pixie\", \"dreadlocks\", \"crew\", \"bowl\", \"bob\", \"mohawk\", \"flattop\"]\n",
    "\n",
    "prices = [30, 25, 40, 20, 20, 35, 50, 35]\n",
    "\n",
    "last_week = [2, 3, 5, 8, 4, 4, 6, 2]"
   ]
  },
  {
   "cell_type": "code",
   "execution_count": 41,
   "id": "0d629cf0-0c23-41c2-97c5-306f263e6850",
   "metadata": {},
   "outputs": [],
   "source": [
    "# 1\n",
    "\n",
    "total_price = 0"
   ]
  },
  {
   "cell_type": "code",
   "execution_count": 42,
   "id": "3bb5fc66-7b0f-4e35-84e1-340908dc8a2c",
   "metadata": {},
   "outputs": [],
   "source": [
    "# 2\n",
    "\n",
    "for i in range(0, len(prices)):\n",
    "    total_price += prices[i]\n"
   ]
  },
  {
   "cell_type": "code",
   "execution_count": 43,
   "id": "e50edd62-db6b-461b-a4c5-564d0757177b",
   "metadata": {},
   "outputs": [],
   "source": [
    "# 3\n",
    "\n",
    "average_price = total_price / len(prices)"
   ]
  },
  {
   "cell_type": "code",
   "execution_count": 44,
   "id": "f7c45422-4ca4-4df6-801b-476c84357374",
   "metadata": {},
   "outputs": [
    {
     "name": "stdout",
     "output_type": "stream",
     "text": [
      "Average price is 31.875\n"
     ]
    }
   ],
   "source": [
    "# 4 expected output\n",
    "\n",
    "print(\"Average price is\" ,average_price)"
   ]
  },
  {
   "cell_type": "code",
   "execution_count": 45,
   "id": "4b988a17-b172-4386-8296-c846cc643875",
   "metadata": {},
   "outputs": [],
   "source": [
    "# 5\n",
    "\n",
    "new_prices = [prices[i] - 5 for i in range(len(prices))]"
   ]
  },
  {
   "cell_type": "code",
   "execution_count": 46,
   "id": "afa7e185-2d5a-4381-ae7b-7158f798d1d0",
   "metadata": {},
   "outputs": [
    {
     "name": "stdout",
     "output_type": "stream",
     "text": [
      "[25, 20, 35, 15, 15, 30, 45, 30]\n"
     ]
    }
   ],
   "source": [
    "# 6 expected output\n",
    "\n",
    "print(new_prices)"
   ]
  },
  {
   "cell_type": "code",
   "execution_count": 47,
   "id": "c43952b3-4b64-4736-9610-e19321ca0a33",
   "metadata": {},
   "outputs": [],
   "source": [
    "# 7\n",
    "\n",
    "total_revenue = 0"
   ]
  },
  {
   "cell_type": "code",
   "execution_count": 48,
   "id": "22b9455e-4ab6-4434-883c-8ba5b950eb56",
   "metadata": {},
   "outputs": [],
   "source": [
    "# 8, 9\n",
    "\n",
    "for i in range(0, len(hairstyles)):\n",
    "    total_revenue += (prices[i] * last_week[i])\n",
    "\n",
    "               \n"
   ]
  },
  {
   "cell_type": "code",
   "execution_count": 49,
   "id": "edb7cf27-2b17-4d78-b10b-1eff18b4f62f",
   "metadata": {},
   "outputs": [
    {
     "name": "stdout",
     "output_type": "stream",
     "text": [
      "1085\n"
     ]
    }
   ],
   "source": [
    "# 10\n",
    "\n",
    "print(total_revenue)"
   ]
  },
  {
   "cell_type": "code",
   "execution_count": 50,
   "id": "032d095d-cfca-4c42-aacd-eccf1ab76e2d",
   "metadata": {},
   "outputs": [
    {
     "name": "stdout",
     "output_type": "stream",
     "text": [
      "Average daily revenue is 155.0\n"
     ]
    }
   ],
   "source": [
    "# 11 expected output\n",
    "\n",
    "average_daily_revenue = total_revenue / 7\n",
    "print('Average daily revenue is' ,average_daily_revenue)"
   ]
  },
  {
   "cell_type": "code",
   "execution_count": 51,
   "id": "635db3d5-c25e-4fee-8bcd-01b747ce9770",
   "metadata": {},
   "outputs": [],
   "source": [
    "# 12\n",
    "\n",
    "cuts_under_30 = [hairstyles[i] for i in range(0, len(new_prices) - 1) if new_prices[i] < 30]"
   ]
  },
  {
   "cell_type": "code",
   "execution_count": 52,
   "id": "4672e0eb-7da5-4935-9306-f8567bdd7ef0",
   "metadata": {},
   "outputs": [
    {
     "name": "stdout",
     "output_type": "stream",
     "text": [
      "['bouffant', 'pixie', 'crew', 'bowl']\n"
     ]
    }
   ],
   "source": [
    "# 13 expected output\n",
    "\n",
    "print(cuts_under_30)"
   ]
  }
 ],
 "metadata": {
  "kernelspec": {
   "display_name": "Python 3 (ipykernel)",
   "language": "python",
   "name": "python3"
  },
  "language_info": {
   "codemirror_mode": {
    "name": "ipython",
    "version": 3
   },
   "file_extension": ".py",
   "mimetype": "text/x-python",
   "name": "python",
   "nbconvert_exporter": "python",
   "pygments_lexer": "ipython3",
   "version": "3.9.12"
  }
 },
 "nbformat": 4,
 "nbformat_minor": 5
}
