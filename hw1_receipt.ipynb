{
 "cells": [
  {
   "cell_type": "code",
   "execution_count": 6,
   "id": "a3ef8c72-87bb-4831-9d93-e57cdb21c3c2",
   "metadata": {},
   "outputs": [
    {
     "name": "stdout",
     "output_type": "stream",
     "text": [
      "Customer One Items:\n",
      "Lovely Loveseat. Tufted polyester blend on wood. 32 inches high x 40 inches wide x 30 inches deep. Red or white.Luxurious Lamp. Glass and iron. 36 inches tall. Brown with cream shade.\n",
      "Customer One Total:\n",
      "333.09119999999996\n"
     ]
    }
   ],
   "source": [
    "# 1\n",
    "lovely_loveseat_description = \"Lovely Loveseat. Tufted polyester blend on wood. 32 inches high x 40 inches wide x 30 inches deep. Red or white.\"\n",
    "\n",
    "# 2\n",
    "lovely_loveseat_price = 254.000\n",
    "\n",
    "# 3\n",
    "\n",
    "stylish_settee_description = \"Stylish Settee. Faux leather on birch. 29.50 inches high x 54.75 inches wide x 28 inches deep. Black\"\n",
    "    \n",
    "# 4\n",
    "stylish_settee_price = 180.50\n",
    "\n",
    "# 5\n",
    "luxurious_lamp_description = \"Luxurious Lamp. Glass and iron. 36 inches tall. Brown with cream shade.\"\n",
    "\n",
    "# 6\n",
    "luxurious_lamp_price = 52.15\n",
    "\n",
    "# 7\n",
    "sales_tax = .088\n",
    "\n",
    "# 8\n",
    "customer_one_total = 0\n",
    "\n",
    "# 9\n",
    "customer_one_itemization = \"\"\n",
    "\n",
    "# 10\n",
    "customer_one_total += lovely_loveseat_price\n",
    "\n",
    "# 11\n",
    "customer_one_itemization = lovely_loveseat_description\n",
    "\n",
    "\n",
    "# 12\n",
    "customer_one_total += luxurious_lamp_price\n",
    "\n",
    "# 13\n",
    "customer_one_itemization += luxurious_lamp_description\n",
    "\n",
    "# 14\n",
    "customer_one_tax = customer_one_total * sales_tax\n",
    "\n",
    "# 15\n",
    "customer_one_total += customer_one_tax\n",
    "\n",
    "# 16\n",
    "print(\"Customer One Items:\")\n",
    "\n",
    "# 17\n",
    "print(customer_one_itemization)\n",
    "\n",
    "# 18\n",
    "print(\"Customer One Total:\")\n",
    "\n",
    "# 19\n",
    "print(customer_one_total)"
   ]
  },
  {
   "cell_type": "code",
   "execution_count": null,
   "id": "9a6cd7e4-49d5-41e8-a44f-b36346be3289",
   "metadata": {},
   "outputs": [],
   "source": []
  }
 ],
 "metadata": {
  "kernelspec": {
   "display_name": "Python 3 (ipykernel)",
   "language": "python",
   "name": "python3"
  },
  "language_info": {
   "codemirror_mode": {
    "name": "ipython",
    "version": 3
   },
   "file_extension": ".py",
   "mimetype": "text/x-python",
   "name": "python",
   "nbconvert_exporter": "python",
   "pygments_lexer": "ipython3",
   "version": "3.9.12"
  }
 },
 "nbformat": 4,
 "nbformat_minor": 5
}
