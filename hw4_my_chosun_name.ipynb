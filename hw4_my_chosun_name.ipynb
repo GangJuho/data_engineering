{
 "cells": [
  {
   "cell_type": "code",
   "execution_count": 48,
   "id": "11a924f9-db74-4867-a932-c1833ce9d0be",
   "metadata": {},
   "outputs": [],
   "source": [
    "import numpy as np"
   ]
  },
  {
   "cell_type": "code",
   "execution_count": 49,
   "id": "dace3508-89d0-4e30-9a49-b90b5220ef0d",
   "metadata": {},
   "outputs": [],
   "source": [
    "family_name = ''"
   ]
  },
  {
   "cell_type": "code",
   "execution_count": 50,
   "id": "ed3dc2d1-40b3-4b01-84f2-64dd1debe6b5",
   "metadata": {},
   "outputs": [],
   "source": [
    "# 1\n",
    "\n",
    "M = np.array(['쌍', '쇠', '복', '돌', '팽', '육', '쌍', '개', '칠', '갑', '삼', '방'])"
   ]
  },
  {
   "cell_type": "code",
   "execution_count": 51,
   "id": "72c2f3bf-331c-4cba-a142-d2ecfb88a851",
   "metadata": {},
   "outputs": [
    {
     "name": "stdout",
     "output_type": "stream",
     "text": [
      "['쌍' '쇠' '복' '돌' '팽' '육' '쌍' '개' '칠' '갑' '삼' '방']\n"
     ]
    }
   ],
   "source": [
    "# 1 - 출력결과\n",
    "\n",
    "print(M)"
   ]
  },
  {
   "cell_type": "code",
   "execution_count": 52,
   "id": "aa4b98c2-d971-4bb1-a462-51fac96f8cfe",
   "metadata": {},
   "outputs": [],
   "source": [
    "# 2\n",
    "\n",
    "D = np.array(['봉', '구', '욕', '포', '똥', '삼', '식', '석', '놈', '님', '년', '돌', '단', '득', '방', '질', '장', '걸', '래', '룡', '동', '순', '자', '박', '창', '언', '것', '포', '만', '단', '국'])"
   ]
  },
  {
   "cell_type": "code",
   "execution_count": 53,
   "id": "9d55c4e5-bdb7-4572-b90b-93773324ba89",
   "metadata": {},
   "outputs": [
    {
     "name": "stdout",
     "output_type": "stream",
     "text": [
      "['봉' '구' '욕' '포' '똥' '삼' '식' '석' '놈' '님' '년' '돌' '단' '득' '방' '질' '장' '걸'\n",
      " '래' '룡' '동' '순' '자' '박' '창' '언' '것' '포' '만' '단' '국']\n"
     ]
    }
   ],
   "source": [
    "# 2 - 출력결과\n",
    "\n",
    "print(D)"
   ]
  },
  {
   "cell_type": "code",
   "execution_count": 57,
   "id": "7cb76ac6-cd17-4ec3-b706-8f525dfac51c",
   "metadata": {},
   "outputs": [],
   "source": [
    "# 3\n",
    "\n",
    "def get_my_chosun_name(family_name, month, day):\n",
    "    print('당신의 조선시대 이름은',family_name+str(M[month-1])+str(D[day-1]),'입니다')"
   ]
  },
  {
   "cell_type": "code",
   "execution_count": 55,
   "id": "bcb967f5-755a-40f4-a348-ab1e2cbf1758",
   "metadata": {},
   "outputs": [
    {
     "name": "stdout",
     "output_type": "stream",
     "text": [
      "당신의 조선시대 이름은 안칠걸 입니다\n"
     ]
    }
   ],
   "source": [
    "# 4(예시)\n",
    "\n",
    "get_my_chosun_name('안', 9, 18)"
   ]
  },
  {
   "cell_type": "code",
   "execution_count": 56,
   "id": "c1869424-7756-47d1-a17d-4850f0e95b96",
   "metadata": {},
   "outputs": [
    {
     "name": "stdout",
     "output_type": "stream",
     "text": [
      "당신의 조선시대 이름은 강개방 입니다\n"
     ]
    }
   ],
   "source": [
    "# 4(본인 이름)\n",
    "\n",
    "get_my_chosun_name('강', 8, 15)"
   ]
  },
  {
   "cell_type": "code",
   "execution_count": null,
   "id": "7aa02129-10eb-4161-be55-444278e37295",
   "metadata": {},
   "outputs": [],
   "source": []
  }
 ],
 "metadata": {
  "kernelspec": {
   "display_name": "Python 3 (ipykernel)",
   "language": "python",
   "name": "python3"
  },
  "language_info": {
   "codemirror_mode": {
    "name": "ipython",
    "version": 3
   },
   "file_extension": ".py",
   "mimetype": "text/x-python",
   "name": "python",
   "nbconvert_exporter": "python",
   "pygments_lexer": "ipython3",
   "version": "3.9.12"
  }
 },
 "nbformat": 4,
 "nbformat_minor": 5
}
