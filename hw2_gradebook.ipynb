{
 "cells": [
  {
   "cell_type": "code",
   "execution_count": 51,
   "id": "6600a27a-ee7d-4e4b-b17b-28a6c9a574b6",
   "metadata": {},
   "outputs": [
    {
     "name": "stdout",
     "output_type": "stream",
     "text": [
      "expected output.1\n",
      "[['physics', 98], ['calculus', 97], ['poetry', 85], ['history', 88]]\n",
      "\n",
      "\n",
      "expected output.2\n",
      "[['physics', 98], ['calculus', 97], ['poetry', 85], ['history', 88], ['computer science', 100], ['visual arts', 93]]\n",
      "\n",
      "\n",
      "expected output.3\n",
      "[['physics', 98], ['calculus', 97], ['poetry', 'pass'], ['history', 88], ['computer science', 100], ['visual arts', 98]]\n",
      "\n",
      "\n",
      "expected output.4\n",
      "[['politics', 80], ['latin', 96], ['dance', 97], ['architecture', 65], ['physics', 98], ['calculus', 97], ['poetry', 'pass'], ['history', 88], ['computer science', 100], ['visual arts', 98]]\n"
     ]
    }
   ],
   "source": [
    "# 1\n",
    "subjects = [\"physics\" , \"calculus\" , \"poetry\" , \"history\"]\n",
    "\n",
    "# 2\n",
    "grades = [98 , 97 , 85 , 88]\n",
    "\n",
    "# 3\n",
    "\n",
    "gradebook = [[\"physics\" , 98] , [\"calculus\" , 97] , [\"poetry\" , 85] , [\"history\" , 88]]\n",
    "\n",
    "# 4 expected output.1\n",
    "print(\"expected output.1\")\n",
    "print(gradebook)\n",
    "print(\"\\n\")\n",
    "\n",
    "# 5\n",
    "gradebook.append([\"computer science\" , 100])\n",
    "\n",
    "# 6 expected output.2\n",
    "gradebook.append([\"visual arts\" , 93])\n",
    "print(\"expected output.2\")\n",
    "print(gradebook)\n",
    "print(\"\\n\")\n",
    "\n",
    "# 7\n",
    "gradebook[5][1] += 5\n",
    "\n",
    "# 8\n",
    "gradebook[2].remove(85)\n",
    "\n",
    "# 9 expected output.3\n",
    "gradebook[2].append(\"pass\")\n",
    "print(\"expected output.3\")\n",
    "print(gradebook)\n",
    "print(\"\\n\")\n",
    "\n",
    "# 10\n",
    "last_semester_gradebook = [[\"politics\", 80], [\"latin\", 96], [\"dance\", 97], [\"architecture\", 65]]\n",
    "\n",
    "# 11\n",
    "full_gradebook = last_semester_gradebook + gradebook\n",
    "print(\"expected output.4\")\n",
    "print(full_gradebook)"
   ]
  },
  {
   "cell_type": "code",
   "execution_count": null,
   "id": "c4c3ff05-0592-46e4-9819-70bb5db7760f",
   "metadata": {},
   "outputs": [],
   "source": []
  }
 ],
 "metadata": {
  "kernelspec": {
   "display_name": "Python 3 (ipykernel)",
   "language": "python",
   "name": "python3"
  },
  "language_info": {
   "codemirror_mode": {
    "name": "ipython",
    "version": 3
   },
   "file_extension": ".py",
   "mimetype": "text/x-python",
   "name": "python",
   "nbconvert_exporter": "python",
   "pygments_lexer": "ipython3",
   "version": "3.9.12"
  }
 },
 "nbformat": 4,
 "nbformat_minor": 5
}
